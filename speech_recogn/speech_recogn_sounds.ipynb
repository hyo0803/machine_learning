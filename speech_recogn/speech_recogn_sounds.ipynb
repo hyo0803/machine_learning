{
  "cells": [
    {
      "cell_type": "markdown",
      "id": "74222cf6",
      "metadata": {
        "id": "74222cf6"
      },
      "source": [
        "Дан набор звуковых файлов в WAV формате. Каждый звуковой файл продолжительностью одна секунда где произносится ровно одно из 10 английских слов. Набор слов: ['cat', 'dog', 'five', 'four', 'house', 'one', 'six', 'stop', 'three', 'two'].\n",
        "\n",
        "Задача написать программу, которая автоматически определит какое именно слово произносится в звуковом файле.\n",
        "\n",
        "В папке train лежат тренировочные файлы, разбитые по подпапкам. Именование папки совпадает со словом, которое произносится в звуковом файле. Название файлов имеет следующий формат словоIDчеловеканомер.\n",
        "\n",
        "Замечание: люди, которые произносили слова в train и люди которые произносили слова в test различаются.\n",
        "\n",
        "В файле sample_submission.csv приведен пример файла для отправки на сервер. Он содержит два поля id и answer. Необходимо вывести распознанное слово в поле answer (например 'cat')."
      ]
    },
    {
      "cell_type": "markdown",
      "id": "b95072e6",
      "metadata": {
        "id": "b95072e6"
      },
      "source": [
        "- скачиваем библиотеку speechrecognition \n",
        "- документация: https://pypi.org/project/SpeechRecognition/\n",
        "- страница на русском языке https://learn4kid-python.firebaseapp.com/python_data_structure/python_speech_recognition/#распознавание-речи-на-языках-отличных-от-англииского"
      ]
    },
    {
      "cell_type": "code",
      "execution_count": null,
      "id": "43f5a091",
      "metadata": {
        "id": "43f5a091",
        "outputId": "0bf34ceb-9bac-4aff-b04e-8c0aa6f455b8"
      },
      "outputs": [
        {
          "name": "stdout",
          "output_type": "stream",
          "text": [
            "Requirement already satisfied: SpeechRecognition in /opt/anaconda3/lib/python3.9/site-packages (3.9.0)\r\n",
            "Requirement already satisfied: requests>=2.26.0 in /opt/anaconda3/lib/python3.9/site-packages (from SpeechRecognition) (2.26.0)\r\n",
            "Requirement already satisfied: certifi>=2017.4.17 in /opt/anaconda3/lib/python3.9/site-packages (from requests>=2.26.0->SpeechRecognition) (2022.6.15)\r\n",
            "Requirement already satisfied: charset-normalizer~=2.0.0 in /opt/anaconda3/lib/python3.9/site-packages (from requests>=2.26.0->SpeechRecognition) (2.0.4)\r\n",
            "Requirement already satisfied: idna<4,>=2.5 in /opt/anaconda3/lib/python3.9/site-packages (from requests>=2.26.0->SpeechRecognition) (3.2)\r\n",
            "Requirement already satisfied: urllib3<1.27,>=1.21.1 in /opt/anaconda3/lib/python3.9/site-packages (from requests>=2.26.0->SpeechRecognition) (1.26.7)\r\n"
          ]
        }
      ],
      "source": [
        "!pip install SpeechRecognition"
      ]
    },
    {
      "cell_type": "markdown",
      "id": "e03f7248",
      "metadata": {
        "id": "e03f7248"
      },
      "source": [
        "импорт библиотек"
      ]
    },
    {
      "cell_type": "code",
      "execution_count": null,
      "id": "aaff282a",
      "metadata": {
        "id": "aaff282a"
      },
      "outputs": [],
      "source": [
        "import speech_recognition as speech_r\n",
        "import wave\n",
        "\n",
        "import pandas as pd\n",
        "import numpy as np\n",
        "import sklearn.metrics\n",
        "from sklearn.model_selection import train_test_split"
      ]
    },
    {
      "cell_type": "markdown",
      "id": "5e71a7fc",
      "metadata": {
        "id": "5e71a7fc"
      },
      "source": [
        "добавим список слов, которые произносятся в файлах"
      ]
    },
    {
      "cell_type": "code",
      "execution_count": null,
      "id": "d282f9ee",
      "metadata": {
        "id": "d282f9ee"
      },
      "outputs": [],
      "source": [
        "array = ['cat', 'dog', 'five', 'four', 'house', \n",
        "       'one', 'six', 'stop', 'three', 'two']"
      ]
    },
    {
      "cell_type": "markdown",
      "id": "94a52997",
      "metadata": {
        "id": "94a52997"
      },
      "source": [
        "получаем звуковые файлы сразу из теста"
      ]
    },
    {
      "cell_type": "markdown",
      "id": "d47b1f0a",
      "metadata": {
        "id": "d47b1f0a"
      },
      "source": [
        "напишем функцию, которая получает на вход путь файла (относительный) и выдает распознанное слово\n",
        "- audio_number - парсинг названия файла\n",
        "- sample - объект аудиофайла для распознавания\n",
        "- recognizer - экземпляр распознавателя речи\n",
        "- result - слово-ответ\n",
        "- audiodata - переформатируем/запишем аудиофайл sample в аудиодату для работы с методами распознавания\n",
        "- text - распознаем какой-либо текст из аудиодаты и высвечиваем все возможные результаты\n",
        "при непустом значении text смотрим, есть ли совпадения результата с исходным списком слов array. да - записываем в переменную результата, нет - записываем пустое значение NaN"
      ]
    },
    {
      "cell_type": "code",
      "execution_count": null,
      "id": "3fb2adbc",
      "metadata": {
        "id": "3fb2adbc"
      },
      "outputs": [],
      "source": [
        "def recognize_from_path(path):\n",
        "    audio_number = path.split('/')[1]\n",
        "    sample = speech_r.WavFile(path)\n",
        "    \n",
        "    recognizer = speech_r.Recognizer()\n",
        "    result = \"\"\n",
        "    # Create audio data\n",
        "    with sample as source:\n",
        "        audiodata = recognizer.record(source)\n",
        "        text = recognizer.recognize_google(audiodata, show_all = True)\n",
        "    \n",
        "    if text:\n",
        "        for dictionary in text['alternative']:\n",
        "            for transcript,val in dictionary.items():\n",
        "                if transcript=='transcript' and val in array:\n",
        "                    result = val\n",
        "    else:\n",
        "        result = \"NaN\"\n",
        "                    \n",
        "    return audio_number,result\n",
        "    "
      ]
    },
    {
      "cell_type": "markdown",
      "id": "ff4e44ee",
      "metadata": {
        "id": "ff4e44ee"
      },
      "source": [
        "## здесь работаем с очень (п**) огромной папкой со звуками которая добьет мой ноут окончательно.\n",
        "- в файлес записываем список всех найденных в test папке файлов формата wav\n",
        "- в n расчитываем количество зввуковых файлов для фора\n",
        "- id, answers - для датафрейма-ответа\n",
        "- потом проходимся по каждому пути файла(test+номер файла по порядку+.wav) и запускаем написанную функцию. в массивы id и answers записываем айди звука/файла и слово которое распознали.\n",
        "- оформляем ответ в датафрейм\n",
        "### крч заебалась ждать обработку 9к!!!! файлов так что если будешь доделывать то переделай строку с фором в for audio_num in range(n):\n",
        "### все"
      ]
    },
    {
      "cell_type": "code",
      "execution_count": null,
      "id": "523c40fb",
      "metadata": {
        "id": "523c40fb",
        "outputId": "5b8d9365-2ee7-4802-bb8c-521f207b4e1c"
      },
      "outputs": [
        {
          "data": {
            "text/html": [
              "<div>\n",
              "<style scoped>\n",
              "    .dataframe tbody tr th:only-of-type {\n",
              "        vertical-align: middle;\n",
              "    }\n",
              "\n",
              "    .dataframe tbody tr th {\n",
              "        vertical-align: top;\n",
              "    }\n",
              "\n",
              "    .dataframe thead th {\n",
              "        text-align: right;\n",
              "    }\n",
              "</style>\n",
              "<table border=\"1\" class=\"dataframe\">\n",
              "  <thead>\n",
              "    <tr style=\"text-align: right;\">\n",
              "      <th></th>\n",
              "      <th>id</th>\n",
              "      <th>answer</th>\n",
              "    </tr>\n",
              "  </thead>\n",
              "  <tbody>\n",
              "    <tr>\n",
              "      <th>0</th>\n",
              "      <td>0.wav</td>\n",
              "      <td>NaN</td>\n",
              "    </tr>\n",
              "    <tr>\n",
              "      <th>1</th>\n",
              "      <td>1.wav</td>\n",
              "      <td>one</td>\n",
              "    </tr>\n",
              "    <tr>\n",
              "      <th>2</th>\n",
              "      <td>2.wav</td>\n",
              "      <td>two</td>\n",
              "    </tr>\n",
              "    <tr>\n",
              "      <th>3</th>\n",
              "      <td>3.wav</td>\n",
              "      <td>dog</td>\n",
              "    </tr>\n",
              "    <tr>\n",
              "      <th>4</th>\n",
              "      <td>4.wav</td>\n",
              "      <td>six</td>\n",
              "    </tr>\n",
              "    <tr>\n",
              "      <th>5</th>\n",
              "      <td>5.wav</td>\n",
              "      <td>stop</td>\n",
              "    </tr>\n",
              "    <tr>\n",
              "      <th>6</th>\n",
              "      <td>6.wav</td>\n",
              "      <td>stop</td>\n",
              "    </tr>\n",
              "    <tr>\n",
              "      <th>7</th>\n",
              "      <td>7.wav</td>\n",
              "      <td>NaN</td>\n",
              "    </tr>\n",
              "    <tr>\n",
              "      <th>8</th>\n",
              "      <td>8.wav</td>\n",
              "      <td>one</td>\n",
              "    </tr>\n",
              "    <tr>\n",
              "      <th>9</th>\n",
              "      <td>9.wav</td>\n",
              "      <td>six</td>\n",
              "    </tr>\n",
              "  </tbody>\n",
              "</table>\n",
              "</div>"
            ],
            "text/plain": [
              "      id answer\n",
              "0  0.wav    NaN\n",
              "1  1.wav    one\n",
              "2  2.wav    two\n",
              "3  3.wav    dog\n",
              "4  4.wav    six\n",
              "5  5.wav   stop\n",
              "6  6.wav   stop\n",
              "7  7.wav    NaN\n",
              "8  8.wav    one\n",
              "9  9.wav    six"
            ]
          },
          "execution_count": 184,
          "metadata": {},
          "output_type": "execute_result"
        }
      ],
      "source": [
        "import glob\n",
        "\n",
        "files = glob.glob(\"test/*.wav\")\n",
        "n = len(files)\n",
        "\n",
        "ID, Answers = [],[]\n",
        "\n",
        "for audio_num in range(n-9060):\n",
        "    recognized_audio = recognize_from_path(\"test/\"+str(audio_num)+\".wav\")\n",
        "    name = recognized_audio[0]\n",
        "    answer = recognized_audio[1]\n",
        "    ID.append(name)\n",
        "    Answers.append(answer)\n",
        "\n",
        "res_df = pd.DataFrame({'id':ID, 'answer':Answers})\n",
        "res_df"
      ]
    },
    {
      "cell_type": "markdown",
      "id": "57cbf728",
      "metadata": {
        "id": "57cbf728"
      },
      "source": [
        "сохраняем в файл submission_res"
      ]
    },
    {
      "cell_type": "code",
      "execution_count": null,
      "id": "c8e863b1",
      "metadata": {
        "id": "c8e863b1",
        "outputId": "e183144e-55a7-4568-92d7-922f4cb62d8d"
      },
      "outputs": [
        {
          "data": {
            "text/html": [
              "<div>\n",
              "<style scoped>\n",
              "    .dataframe tbody tr th:only-of-type {\n",
              "        vertical-align: middle;\n",
              "    }\n",
              "\n",
              "    .dataframe tbody tr th {\n",
              "        vertical-align: top;\n",
              "    }\n",
              "\n",
              "    .dataframe thead th {\n",
              "        text-align: right;\n",
              "    }\n",
              "</style>\n",
              "<table border=\"1\" class=\"dataframe\">\n",
              "  <thead>\n",
              "    <tr style=\"text-align: right;\">\n",
              "      <th></th>\n",
              "      <th>id</th>\n",
              "      <th>answer</th>\n",
              "    </tr>\n",
              "  </thead>\n",
              "  <tbody>\n",
              "    <tr>\n",
              "      <th>0</th>\n",
              "      <td>0.wav</td>\n",
              "      <td>NaN</td>\n",
              "    </tr>\n",
              "    <tr>\n",
              "      <th>1</th>\n",
              "      <td>1.wav</td>\n",
              "      <td>one</td>\n",
              "    </tr>\n",
              "    <tr>\n",
              "      <th>2</th>\n",
              "      <td>2.wav</td>\n",
              "      <td>two</td>\n",
              "    </tr>\n",
              "    <tr>\n",
              "      <th>3</th>\n",
              "      <td>3.wav</td>\n",
              "      <td>dog</td>\n",
              "    </tr>\n",
              "    <tr>\n",
              "      <th>4</th>\n",
              "      <td>4.wav</td>\n",
              "      <td>six</td>\n",
              "    </tr>\n",
              "    <tr>\n",
              "      <th>5</th>\n",
              "      <td>5.wav</td>\n",
              "      <td>stop</td>\n",
              "    </tr>\n",
              "    <tr>\n",
              "      <th>6</th>\n",
              "      <td>6.wav</td>\n",
              "      <td>stop</td>\n",
              "    </tr>\n",
              "    <tr>\n",
              "      <th>7</th>\n",
              "      <td>7.wav</td>\n",
              "      <td>NaN</td>\n",
              "    </tr>\n",
              "    <tr>\n",
              "      <th>8</th>\n",
              "      <td>8.wav</td>\n",
              "      <td>one</td>\n",
              "    </tr>\n",
              "    <tr>\n",
              "      <th>9</th>\n",
              "      <td>9.wav</td>\n",
              "      <td>six</td>\n",
              "    </tr>\n",
              "  </tbody>\n",
              "</table>\n",
              "</div>"
            ],
            "text/plain": [
              "      id answer\n",
              "0  0.wav    NaN\n",
              "1  1.wav    one\n",
              "2  2.wav    two\n",
              "3  3.wav    dog\n",
              "4  4.wav    six\n",
              "5  5.wav   stop\n",
              "6  6.wav   stop\n",
              "7  7.wav    NaN\n",
              "8  8.wav    one\n",
              "9  9.wav    six"
            ]
          },
          "execution_count": 188,
          "metadata": {},
          "output_type": "execute_result"
        }
      ],
      "source": [
        "res_df.to_csv('submission_res.csv', index=False)\n",
        "res_df"
      ]
    },
    {
      "cell_type": "code",
      "execution_count": null,
      "id": "9a716892",
      "metadata": {
        "id": "9a716892"
      },
      "outputs": [],
      "source": []
    }
  ],
  "metadata": {
    "kernelspec": {
      "display_name": "Python 3 (ipykernel)",
      "language": "python",
      "name": "python3"
    },
    "language_info": {
      "codemirror_mode": {
        "name": "ipython",
        "version": 3
      },
      "file_extension": ".py",
      "mimetype": "text/x-python",
      "name": "python",
      "nbconvert_exporter": "python",
      "pygments_lexer": "ipython3",
      "version": "3.9.7"
    },
    "colab": {
      "provenance": []
    }
  },
  "nbformat": 4,
  "nbformat_minor": 5
}